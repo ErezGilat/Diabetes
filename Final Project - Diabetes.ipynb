{
 "cells": [
  {
   "cell_type": "code",
   "execution_count": 1,
   "id": "22c6176f",
   "metadata": {},
   "outputs": [],
   "source": [
    "# Diabetes is a very dangerous diseases, \n",
    "# sometimes changing lifestyle can prevesnt or at least postpone the "
   ]
  },
  {
   "cell_type": "code",
   "execution_count": 2,
   "id": "b55bad2e",
   "metadata": {},
   "outputs": [],
   "source": [
    "import pandas as pd\n",
    "import seaborn as sb\n",
    "import numpy as np\n",
    "import matplotlib.pyplot as plt"
   ]
  },
  {
   "cell_type": "code",
   "execution_count": null,
   "id": "926e537d",
   "metadata": {},
   "outputs": [],
   "source": []
  },
  {
   "cell_type": "code",
   "execution_count": 3,
   "id": "49486162",
   "metadata": {},
   "outputs": [],
   "source": [
    "db_df = pd.read_csv(\"diabetes_012_health_indicators_BRFSS2015.csv\")"
   ]
  },
  {
   "cell_type": "code",
   "execution_count": null,
   "id": "921c0e3d",
   "metadata": {},
   "outputs": [],
   "source": []
  },
  {
   "cell_type": "code",
   "execution_count": 4,
   "id": "0cd67b1a",
   "metadata": {},
   "outputs": [
    {
     "data": {
      "text/html": [
       "<div>\n",
       "<style scoped>\n",
       "    .dataframe tbody tr th:only-of-type {\n",
       "        vertical-align: middle;\n",
       "    }\n",
       "\n",
       "    .dataframe tbody tr th {\n",
       "        vertical-align: top;\n",
       "    }\n",
       "\n",
       "    .dataframe thead th {\n",
       "        text-align: right;\n",
       "    }\n",
       "</style>\n",
       "<table border=\"1\" class=\"dataframe\">\n",
       "  <thead>\n",
       "    <tr style=\"text-align: right;\">\n",
       "      <th></th>\n",
       "      <th>Diabetes_012</th>\n",
       "      <th>HighBP</th>\n",
       "      <th>HighChol</th>\n",
       "      <th>CholCheck</th>\n",
       "      <th>BMI</th>\n",
       "      <th>Smoker</th>\n",
       "      <th>Stroke</th>\n",
       "      <th>HeartDiseaseorAttack</th>\n",
       "      <th>PhysActivity</th>\n",
       "      <th>Fruits</th>\n",
       "      <th>...</th>\n",
       "      <th>AnyHealthcare</th>\n",
       "      <th>NoDocbcCost</th>\n",
       "      <th>GenHlth</th>\n",
       "      <th>MentHlth</th>\n",
       "      <th>PhysHlth</th>\n",
       "      <th>DiffWalk</th>\n",
       "      <th>Sex</th>\n",
       "      <th>Age</th>\n",
       "      <th>Education</th>\n",
       "      <th>Income</th>\n",
       "    </tr>\n",
       "  </thead>\n",
       "  <tbody>\n",
       "    <tr>\n",
       "      <th>0</th>\n",
       "      <td>0.0</td>\n",
       "      <td>1.0</td>\n",
       "      <td>1.0</td>\n",
       "      <td>1.0</td>\n",
       "      <td>40.0</td>\n",
       "      <td>1.0</td>\n",
       "      <td>0.0</td>\n",
       "      <td>0.0</td>\n",
       "      <td>0.0</td>\n",
       "      <td>0.0</td>\n",
       "      <td>...</td>\n",
       "      <td>1.0</td>\n",
       "      <td>0.0</td>\n",
       "      <td>5.0</td>\n",
       "      <td>18.0</td>\n",
       "      <td>15.0</td>\n",
       "      <td>1.0</td>\n",
       "      <td>0.0</td>\n",
       "      <td>9.0</td>\n",
       "      <td>4.0</td>\n",
       "      <td>3.0</td>\n",
       "    </tr>\n",
       "    <tr>\n",
       "      <th>1</th>\n",
       "      <td>0.0</td>\n",
       "      <td>0.0</td>\n",
       "      <td>0.0</td>\n",
       "      <td>0.0</td>\n",
       "      <td>25.0</td>\n",
       "      <td>1.0</td>\n",
       "      <td>0.0</td>\n",
       "      <td>0.0</td>\n",
       "      <td>1.0</td>\n",
       "      <td>0.0</td>\n",
       "      <td>...</td>\n",
       "      <td>0.0</td>\n",
       "      <td>1.0</td>\n",
       "      <td>3.0</td>\n",
       "      <td>0.0</td>\n",
       "      <td>0.0</td>\n",
       "      <td>0.0</td>\n",
       "      <td>0.0</td>\n",
       "      <td>7.0</td>\n",
       "      <td>6.0</td>\n",
       "      <td>1.0</td>\n",
       "    </tr>\n",
       "    <tr>\n",
       "      <th>2</th>\n",
       "      <td>0.0</td>\n",
       "      <td>1.0</td>\n",
       "      <td>1.0</td>\n",
       "      <td>1.0</td>\n",
       "      <td>28.0</td>\n",
       "      <td>0.0</td>\n",
       "      <td>0.0</td>\n",
       "      <td>0.0</td>\n",
       "      <td>0.0</td>\n",
       "      <td>1.0</td>\n",
       "      <td>...</td>\n",
       "      <td>1.0</td>\n",
       "      <td>1.0</td>\n",
       "      <td>5.0</td>\n",
       "      <td>30.0</td>\n",
       "      <td>30.0</td>\n",
       "      <td>1.0</td>\n",
       "      <td>0.0</td>\n",
       "      <td>9.0</td>\n",
       "      <td>4.0</td>\n",
       "      <td>8.0</td>\n",
       "    </tr>\n",
       "  </tbody>\n",
       "</table>\n",
       "<p>3 rows × 22 columns</p>\n",
       "</div>"
      ],
      "text/plain": [
       "   Diabetes_012  HighBP  HighChol  CholCheck   BMI  Smoker  Stroke  \\\n",
       "0           0.0     1.0       1.0        1.0  40.0     1.0     0.0   \n",
       "1           0.0     0.0       0.0        0.0  25.0     1.0     0.0   \n",
       "2           0.0     1.0       1.0        1.0  28.0     0.0     0.0   \n",
       "\n",
       "   HeartDiseaseorAttack  PhysActivity  Fruits  ...  AnyHealthcare  \\\n",
       "0                   0.0           0.0     0.0  ...            1.0   \n",
       "1                   0.0           1.0     0.0  ...            0.0   \n",
       "2                   0.0           0.0     1.0  ...            1.0   \n",
       "\n",
       "   NoDocbcCost  GenHlth  MentHlth  PhysHlth  DiffWalk  Sex  Age  Education  \\\n",
       "0          0.0      5.0      18.0      15.0       1.0  0.0  9.0        4.0   \n",
       "1          1.0      3.0       0.0       0.0       0.0  0.0  7.0        6.0   \n",
       "2          1.0      5.0      30.0      30.0       1.0  0.0  9.0        4.0   \n",
       "\n",
       "   Income  \n",
       "0     3.0  \n",
       "1     1.0  \n",
       "2     8.0  \n",
       "\n",
       "[3 rows x 22 columns]"
      ]
     },
     "execution_count": 4,
     "metadata": {},
     "output_type": "execute_result"
    }
   ],
   "source": [
    "db_df.head(3)"
   ]
  },
  {
   "cell_type": "code",
   "execution_count": 5,
   "id": "5bfadc35",
   "metadata": {},
   "outputs": [
    {
     "data": {
      "text/html": [
       "<div>\n",
       "<style scoped>\n",
       "    .dataframe tbody tr th:only-of-type {\n",
       "        vertical-align: middle;\n",
       "    }\n",
       "\n",
       "    .dataframe tbody tr th {\n",
       "        vertical-align: top;\n",
       "    }\n",
       "\n",
       "    .dataframe thead th {\n",
       "        text-align: right;\n",
       "    }\n",
       "</style>\n",
       "<table border=\"1\" class=\"dataframe\">\n",
       "  <thead>\n",
       "    <tr style=\"text-align: right;\">\n",
       "      <th></th>\n",
       "      <th>1</th>\n",
       "    </tr>\n",
       "  </thead>\n",
       "  <tbody>\n",
       "    <tr>\n",
       "      <th>Diabetes_012</th>\n",
       "      <td>0.0</td>\n",
       "    </tr>\n",
       "    <tr>\n",
       "      <th>HighBP</th>\n",
       "      <td>0.0</td>\n",
       "    </tr>\n",
       "    <tr>\n",
       "      <th>HighChol</th>\n",
       "      <td>0.0</td>\n",
       "    </tr>\n",
       "    <tr>\n",
       "      <th>CholCheck</th>\n",
       "      <td>0.0</td>\n",
       "    </tr>\n",
       "    <tr>\n",
       "      <th>BMI</th>\n",
       "      <td>25.0</td>\n",
       "    </tr>\n",
       "    <tr>\n",
       "      <th>Smoker</th>\n",
       "      <td>1.0</td>\n",
       "    </tr>\n",
       "    <tr>\n",
       "      <th>Stroke</th>\n",
       "      <td>0.0</td>\n",
       "    </tr>\n",
       "    <tr>\n",
       "      <th>HeartDiseaseorAttack</th>\n",
       "      <td>0.0</td>\n",
       "    </tr>\n",
       "    <tr>\n",
       "      <th>PhysActivity</th>\n",
       "      <td>1.0</td>\n",
       "    </tr>\n",
       "    <tr>\n",
       "      <th>Fruits</th>\n",
       "      <td>0.0</td>\n",
       "    </tr>\n",
       "    <tr>\n",
       "      <th>Veggies</th>\n",
       "      <td>0.0</td>\n",
       "    </tr>\n",
       "    <tr>\n",
       "      <th>HvyAlcoholConsump</th>\n",
       "      <td>0.0</td>\n",
       "    </tr>\n",
       "    <tr>\n",
       "      <th>AnyHealthcare</th>\n",
       "      <td>0.0</td>\n",
       "    </tr>\n",
       "    <tr>\n",
       "      <th>NoDocbcCost</th>\n",
       "      <td>1.0</td>\n",
       "    </tr>\n",
       "    <tr>\n",
       "      <th>GenHlth</th>\n",
       "      <td>3.0</td>\n",
       "    </tr>\n",
       "    <tr>\n",
       "      <th>MentHlth</th>\n",
       "      <td>0.0</td>\n",
       "    </tr>\n",
       "    <tr>\n",
       "      <th>PhysHlth</th>\n",
       "      <td>0.0</td>\n",
       "    </tr>\n",
       "    <tr>\n",
       "      <th>DiffWalk</th>\n",
       "      <td>0.0</td>\n",
       "    </tr>\n",
       "    <tr>\n",
       "      <th>Sex</th>\n",
       "      <td>0.0</td>\n",
       "    </tr>\n",
       "    <tr>\n",
       "      <th>Age</th>\n",
       "      <td>7.0</td>\n",
       "    </tr>\n",
       "    <tr>\n",
       "      <th>Education</th>\n",
       "      <td>6.0</td>\n",
       "    </tr>\n",
       "    <tr>\n",
       "      <th>Income</th>\n",
       "      <td>1.0</td>\n",
       "    </tr>\n",
       "  </tbody>\n",
       "</table>\n",
       "</div>"
      ],
      "text/plain": [
       "                         1\n",
       "Diabetes_012           0.0\n",
       "HighBP                 0.0\n",
       "HighChol               0.0\n",
       "CholCheck              0.0\n",
       "BMI                   25.0\n",
       "Smoker                 1.0\n",
       "Stroke                 0.0\n",
       "HeartDiseaseorAttack   0.0\n",
       "PhysActivity           1.0\n",
       "Fruits                 0.0\n",
       "Veggies                0.0\n",
       "HvyAlcoholConsump      0.0\n",
       "AnyHealthcare          0.0\n",
       "NoDocbcCost            1.0\n",
       "GenHlth                3.0\n",
       "MentHlth               0.0\n",
       "PhysHlth               0.0\n",
       "DiffWalk               0.0\n",
       "Sex                    0.0\n",
       "Age                    7.0\n",
       "Education              6.0\n",
       "Income                 1.0"
      ]
     },
     "execution_count": 5,
     "metadata": {},
     "output_type": "execute_result"
    }
   ],
   "source": [
    "db_df[1:2].T"
   ]
  },
  {
   "cell_type": "code",
   "execution_count": 6,
   "id": "5237352c",
   "metadata": {},
   "outputs": [
    {
     "name": "stdout",
     "output_type": "stream",
     "text": [
      "<class 'pandas.core.frame.DataFrame'>\n",
      "RangeIndex: 253680 entries, 0 to 253679\n",
      "Data columns (total 22 columns):\n",
      " #   Column                Non-Null Count   Dtype  \n",
      "---  ------                --------------   -----  \n",
      " 0   Diabetes_012          253680 non-null  float64\n",
      " 1   HighBP                253680 non-null  float64\n",
      " 2   HighChol              253680 non-null  float64\n",
      " 3   CholCheck             253680 non-null  float64\n",
      " 4   BMI                   253680 non-null  float64\n",
      " 5   Smoker                253680 non-null  float64\n",
      " 6   Stroke                253680 non-null  float64\n",
      " 7   HeartDiseaseorAttack  253680 non-null  float64\n",
      " 8   PhysActivity          253680 non-null  float64\n",
      " 9   Fruits                253680 non-null  float64\n",
      " 10  Veggies               253680 non-null  float64\n",
      " 11  HvyAlcoholConsump     253680 non-null  float64\n",
      " 12  AnyHealthcare         253680 non-null  float64\n",
      " 13  NoDocbcCost           253680 non-null  float64\n",
      " 14  GenHlth               253680 non-null  float64\n",
      " 15  MentHlth              253680 non-null  float64\n",
      " 16  PhysHlth              253680 non-null  float64\n",
      " 17  DiffWalk              253680 non-null  float64\n",
      " 18  Sex                   253680 non-null  float64\n",
      " 19  Age                   253680 non-null  float64\n",
      " 20  Education             253680 non-null  float64\n",
      " 21  Income                253680 non-null  float64\n",
      "dtypes: float64(22)\n",
      "memory usage: 42.6 MB\n"
     ]
    }
   ],
   "source": [
    "db_df.info()"
   ]
  },
  {
   "cell_type": "markdown",
   "id": "ca6a7256",
   "metadata": {},
   "source": [
    "# Diabetes_012 - 0 = no diabetes 1 = prediabetes 2 = diabetes\n",
    "HighBP - 0 = no high BP 1 = high BP\n",
    "\n",
    "HighChol - 0 = no high cholesterol 1 = high cholesterol\n",
    "\n",
    "CholCheck - 0 = no cholesterol check in 5 years 1 = yes cholesterol check in 5 years\n",
    "\n",
    "BMI - Body Mass Index\n",
    "\n",
    "Smoker - Have you smoked at least 100 cigarettes in your entire life? [Note: 5 packs = 100 cigarettes] 0 = no 1 = yes\n",
    "Stroke - (Ever told) you had a stroke. 0 = no 1 = yes\n",
    "\n",
    "HeartDiseaseorAttack - coronary heart disease (CHD) or myocardial infarction (MI) 0 = no 1 = yes\n",
    "\n",
    "PhysActivity - physical activity in past 30 days - not including job 0 = no 1 = yes\n",
    "\n",
    "Fruits - Consume Fruit 1 or more times per day 0 = no 1 = yes\n",
    "\n",
    "Veggies - Consume Vegetables 1 or more times per day 0 = no 1 = yes\n",
    "\n",
    "HvyAlcoholConsump - Heavy drinkers (adult men having more than 14 drinks per week and adult women having more than 7 drinks per week) 0 = no 1 = yes\n",
    "\n",
    "AnyHealthcare - Have any kind of health care coverage, including health insurance, prepaid plans such as HMO, etc. 0 = no 1 = yes.\n",
    "\n",
    "NoDocbcCost - Was there a time in the past 12 months when you needed to see a doctor but could not because of cost? 0 = no 1 = yes\n",
    "\n",
    "GenHlth - Would you say that in general your health is: scale 1-5 1 = excellent 2 = very good 3 = good 4 = fair 5 = poor\n",
    "\n",
    "MentHlth - Now thinking about your mental health, which includes stress, depression, and problems with emotions, for how many days during the past 30 days was your mental health not good? scale 1-30 days\n",
    "\n",
    "PhysHlth - Now thinking about your physical health, which includes physical illness and injury, for how many days during the past 30 days was your physical health not good? scale 1-30 days\n",
    "\n",
    "DiffWalk - Do you have serious difficulty walking or climbing stairs? 0 = no 1 = yes\n",
    "\n",
    "Sex -  0 = female 1 = male\n",
    "\n",
    "Age - 13-level age category (_AGEG5YR see codebook) 1 = 18-24 9 = 60-64 13 = 80 or older\n",
    "\n",
    "Education - Education level (EDUCA see codebook) scale 1-6 1 = Never attended school or only kindergarten 2 = Grades 1 through 8 (Elementary) 3 = Grades 9 through 11 (Some high school) 4 = Grade 12 or GED (High school graduate) 5 = College 1 year to 3 years (Some college or technical school) 6 = College 4 years or more (College graduate)\n",
    "\n",
    "Income - Income scale (INCOME2 see codebook) scale 1-8 1 = less than $10,000 5 = less than $35,000 8 = $75,000 or more"
   ]
  },
  {
   "cell_type": "code",
   "execution_count": 7,
   "id": "fc1a77ee",
   "metadata": {},
   "outputs": [
    {
     "data": {
      "text/html": [
       "<div>\n",
       "<style scoped>\n",
       "    .dataframe tbody tr th:only-of-type {\n",
       "        vertical-align: middle;\n",
       "    }\n",
       "\n",
       "    .dataframe tbody tr th {\n",
       "        vertical-align: top;\n",
       "    }\n",
       "\n",
       "    .dataframe thead th {\n",
       "        text-align: right;\n",
       "    }\n",
       "</style>\n",
       "<table border=\"1\" class=\"dataframe\">\n",
       "  <thead>\n",
       "    <tr style=\"text-align: right;\">\n",
       "      <th></th>\n",
       "      <th>count</th>\n",
       "      <th>mean</th>\n",
       "      <th>std</th>\n",
       "      <th>min</th>\n",
       "      <th>25%</th>\n",
       "      <th>50%</th>\n",
       "      <th>75%</th>\n",
       "      <th>max</th>\n",
       "    </tr>\n",
       "  </thead>\n",
       "  <tbody>\n",
       "    <tr>\n",
       "      <th>Diabetes_012</th>\n",
       "      <td>253680.0</td>\n",
       "      <td>0.296921</td>\n",
       "      <td>0.698160</td>\n",
       "      <td>0.0</td>\n",
       "      <td>0.0</td>\n",
       "      <td>0.0</td>\n",
       "      <td>0.0</td>\n",
       "      <td>2.0</td>\n",
       "    </tr>\n",
       "    <tr>\n",
       "      <th>HighBP</th>\n",
       "      <td>253680.0</td>\n",
       "      <td>0.429001</td>\n",
       "      <td>0.494934</td>\n",
       "      <td>0.0</td>\n",
       "      <td>0.0</td>\n",
       "      <td>0.0</td>\n",
       "      <td>1.0</td>\n",
       "      <td>1.0</td>\n",
       "    </tr>\n",
       "    <tr>\n",
       "      <th>HighChol</th>\n",
       "      <td>253680.0</td>\n",
       "      <td>0.424121</td>\n",
       "      <td>0.494210</td>\n",
       "      <td>0.0</td>\n",
       "      <td>0.0</td>\n",
       "      <td>0.0</td>\n",
       "      <td>1.0</td>\n",
       "      <td>1.0</td>\n",
       "    </tr>\n",
       "    <tr>\n",
       "      <th>CholCheck</th>\n",
       "      <td>253680.0</td>\n",
       "      <td>0.962670</td>\n",
       "      <td>0.189571</td>\n",
       "      <td>0.0</td>\n",
       "      <td>1.0</td>\n",
       "      <td>1.0</td>\n",
       "      <td>1.0</td>\n",
       "      <td>1.0</td>\n",
       "    </tr>\n",
       "    <tr>\n",
       "      <th>BMI</th>\n",
       "      <td>253680.0</td>\n",
       "      <td>28.382364</td>\n",
       "      <td>6.608694</td>\n",
       "      <td>12.0</td>\n",
       "      <td>24.0</td>\n",
       "      <td>27.0</td>\n",
       "      <td>31.0</td>\n",
       "      <td>98.0</td>\n",
       "    </tr>\n",
       "    <tr>\n",
       "      <th>Smoker</th>\n",
       "      <td>253680.0</td>\n",
       "      <td>0.443169</td>\n",
       "      <td>0.496761</td>\n",
       "      <td>0.0</td>\n",
       "      <td>0.0</td>\n",
       "      <td>0.0</td>\n",
       "      <td>1.0</td>\n",
       "      <td>1.0</td>\n",
       "    </tr>\n",
       "    <tr>\n",
       "      <th>Stroke</th>\n",
       "      <td>253680.0</td>\n",
       "      <td>0.040571</td>\n",
       "      <td>0.197294</td>\n",
       "      <td>0.0</td>\n",
       "      <td>0.0</td>\n",
       "      <td>0.0</td>\n",
       "      <td>0.0</td>\n",
       "      <td>1.0</td>\n",
       "    </tr>\n",
       "    <tr>\n",
       "      <th>HeartDiseaseorAttack</th>\n",
       "      <td>253680.0</td>\n",
       "      <td>0.094186</td>\n",
       "      <td>0.292087</td>\n",
       "      <td>0.0</td>\n",
       "      <td>0.0</td>\n",
       "      <td>0.0</td>\n",
       "      <td>0.0</td>\n",
       "      <td>1.0</td>\n",
       "    </tr>\n",
       "    <tr>\n",
       "      <th>PhysActivity</th>\n",
       "      <td>253680.0</td>\n",
       "      <td>0.756544</td>\n",
       "      <td>0.429169</td>\n",
       "      <td>0.0</td>\n",
       "      <td>1.0</td>\n",
       "      <td>1.0</td>\n",
       "      <td>1.0</td>\n",
       "      <td>1.0</td>\n",
       "    </tr>\n",
       "    <tr>\n",
       "      <th>Fruits</th>\n",
       "      <td>253680.0</td>\n",
       "      <td>0.634256</td>\n",
       "      <td>0.481639</td>\n",
       "      <td>0.0</td>\n",
       "      <td>0.0</td>\n",
       "      <td>1.0</td>\n",
       "      <td>1.0</td>\n",
       "      <td>1.0</td>\n",
       "    </tr>\n",
       "    <tr>\n",
       "      <th>Veggies</th>\n",
       "      <td>253680.0</td>\n",
       "      <td>0.811420</td>\n",
       "      <td>0.391175</td>\n",
       "      <td>0.0</td>\n",
       "      <td>1.0</td>\n",
       "      <td>1.0</td>\n",
       "      <td>1.0</td>\n",
       "      <td>1.0</td>\n",
       "    </tr>\n",
       "    <tr>\n",
       "      <th>HvyAlcoholConsump</th>\n",
       "      <td>253680.0</td>\n",
       "      <td>0.056197</td>\n",
       "      <td>0.230302</td>\n",
       "      <td>0.0</td>\n",
       "      <td>0.0</td>\n",
       "      <td>0.0</td>\n",
       "      <td>0.0</td>\n",
       "      <td>1.0</td>\n",
       "    </tr>\n",
       "    <tr>\n",
       "      <th>AnyHealthcare</th>\n",
       "      <td>253680.0</td>\n",
       "      <td>0.951053</td>\n",
       "      <td>0.215759</td>\n",
       "      <td>0.0</td>\n",
       "      <td>1.0</td>\n",
       "      <td>1.0</td>\n",
       "      <td>1.0</td>\n",
       "      <td>1.0</td>\n",
       "    </tr>\n",
       "    <tr>\n",
       "      <th>NoDocbcCost</th>\n",
       "      <td>253680.0</td>\n",
       "      <td>0.084177</td>\n",
       "      <td>0.277654</td>\n",
       "      <td>0.0</td>\n",
       "      <td>0.0</td>\n",
       "      <td>0.0</td>\n",
       "      <td>0.0</td>\n",
       "      <td>1.0</td>\n",
       "    </tr>\n",
       "    <tr>\n",
       "      <th>GenHlth</th>\n",
       "      <td>253680.0</td>\n",
       "      <td>2.511392</td>\n",
       "      <td>1.068477</td>\n",
       "      <td>1.0</td>\n",
       "      <td>2.0</td>\n",
       "      <td>2.0</td>\n",
       "      <td>3.0</td>\n",
       "      <td>5.0</td>\n",
       "    </tr>\n",
       "    <tr>\n",
       "      <th>MentHlth</th>\n",
       "      <td>253680.0</td>\n",
       "      <td>3.184772</td>\n",
       "      <td>7.412847</td>\n",
       "      <td>0.0</td>\n",
       "      <td>0.0</td>\n",
       "      <td>0.0</td>\n",
       "      <td>2.0</td>\n",
       "      <td>30.0</td>\n",
       "    </tr>\n",
       "    <tr>\n",
       "      <th>PhysHlth</th>\n",
       "      <td>253680.0</td>\n",
       "      <td>4.242081</td>\n",
       "      <td>8.717951</td>\n",
       "      <td>0.0</td>\n",
       "      <td>0.0</td>\n",
       "      <td>0.0</td>\n",
       "      <td>3.0</td>\n",
       "      <td>30.0</td>\n",
       "    </tr>\n",
       "    <tr>\n",
       "      <th>DiffWalk</th>\n",
       "      <td>253680.0</td>\n",
       "      <td>0.168224</td>\n",
       "      <td>0.374066</td>\n",
       "      <td>0.0</td>\n",
       "      <td>0.0</td>\n",
       "      <td>0.0</td>\n",
       "      <td>0.0</td>\n",
       "      <td>1.0</td>\n",
       "    </tr>\n",
       "    <tr>\n",
       "      <th>Sex</th>\n",
       "      <td>253680.0</td>\n",
       "      <td>0.440342</td>\n",
       "      <td>0.496429</td>\n",
       "      <td>0.0</td>\n",
       "      <td>0.0</td>\n",
       "      <td>0.0</td>\n",
       "      <td>1.0</td>\n",
       "      <td>1.0</td>\n",
       "    </tr>\n",
       "    <tr>\n",
       "      <th>Age</th>\n",
       "      <td>253680.0</td>\n",
       "      <td>8.032119</td>\n",
       "      <td>3.054220</td>\n",
       "      <td>1.0</td>\n",
       "      <td>6.0</td>\n",
       "      <td>8.0</td>\n",
       "      <td>10.0</td>\n",
       "      <td>13.0</td>\n",
       "    </tr>\n",
       "    <tr>\n",
       "      <th>Education</th>\n",
       "      <td>253680.0</td>\n",
       "      <td>5.050434</td>\n",
       "      <td>0.985774</td>\n",
       "      <td>1.0</td>\n",
       "      <td>4.0</td>\n",
       "      <td>5.0</td>\n",
       "      <td>6.0</td>\n",
       "      <td>6.0</td>\n",
       "    </tr>\n",
       "    <tr>\n",
       "      <th>Income</th>\n",
       "      <td>253680.0</td>\n",
       "      <td>6.053875</td>\n",
       "      <td>2.071148</td>\n",
       "      <td>1.0</td>\n",
       "      <td>5.0</td>\n",
       "      <td>7.0</td>\n",
       "      <td>8.0</td>\n",
       "      <td>8.0</td>\n",
       "    </tr>\n",
       "  </tbody>\n",
       "</table>\n",
       "</div>"
      ],
      "text/plain": [
       "                         count       mean       std   min   25%   50%   75%  \\\n",
       "Diabetes_012          253680.0   0.296921  0.698160   0.0   0.0   0.0   0.0   \n",
       "HighBP                253680.0   0.429001  0.494934   0.0   0.0   0.0   1.0   \n",
       "HighChol              253680.0   0.424121  0.494210   0.0   0.0   0.0   1.0   \n",
       "CholCheck             253680.0   0.962670  0.189571   0.0   1.0   1.0   1.0   \n",
       "BMI                   253680.0  28.382364  6.608694  12.0  24.0  27.0  31.0   \n",
       "Smoker                253680.0   0.443169  0.496761   0.0   0.0   0.0   1.0   \n",
       "Stroke                253680.0   0.040571  0.197294   0.0   0.0   0.0   0.0   \n",
       "HeartDiseaseorAttack  253680.0   0.094186  0.292087   0.0   0.0   0.0   0.0   \n",
       "PhysActivity          253680.0   0.756544  0.429169   0.0   1.0   1.0   1.0   \n",
       "Fruits                253680.0   0.634256  0.481639   0.0   0.0   1.0   1.0   \n",
       "Veggies               253680.0   0.811420  0.391175   0.0   1.0   1.0   1.0   \n",
       "HvyAlcoholConsump     253680.0   0.056197  0.230302   0.0   0.0   0.0   0.0   \n",
       "AnyHealthcare         253680.0   0.951053  0.215759   0.0   1.0   1.0   1.0   \n",
       "NoDocbcCost           253680.0   0.084177  0.277654   0.0   0.0   0.0   0.0   \n",
       "GenHlth               253680.0   2.511392  1.068477   1.0   2.0   2.0   3.0   \n",
       "MentHlth              253680.0   3.184772  7.412847   0.0   0.0   0.0   2.0   \n",
       "PhysHlth              253680.0   4.242081  8.717951   0.0   0.0   0.0   3.0   \n",
       "DiffWalk              253680.0   0.168224  0.374066   0.0   0.0   0.0   0.0   \n",
       "Sex                   253680.0   0.440342  0.496429   0.0   0.0   0.0   1.0   \n",
       "Age                   253680.0   8.032119  3.054220   1.0   6.0   8.0  10.0   \n",
       "Education             253680.0   5.050434  0.985774   1.0   4.0   5.0   6.0   \n",
       "Income                253680.0   6.053875  2.071148   1.0   5.0   7.0   8.0   \n",
       "\n",
       "                       max  \n",
       "Diabetes_012           2.0  \n",
       "HighBP                 1.0  \n",
       "HighChol               1.0  \n",
       "CholCheck              1.0  \n",
       "BMI                   98.0  \n",
       "Smoker                 1.0  \n",
       "Stroke                 1.0  \n",
       "HeartDiseaseorAttack   1.0  \n",
       "PhysActivity           1.0  \n",
       "Fruits                 1.0  \n",
       "Veggies                1.0  \n",
       "HvyAlcoholConsump      1.0  \n",
       "AnyHealthcare          1.0  \n",
       "NoDocbcCost            1.0  \n",
       "GenHlth                5.0  \n",
       "MentHlth              30.0  \n",
       "PhysHlth              30.0  \n",
       "DiffWalk               1.0  \n",
       "Sex                    1.0  \n",
       "Age                   13.0  \n",
       "Education              6.0  \n",
       "Income                 8.0  "
      ]
     },
     "execution_count": 7,
     "metadata": {},
     "output_type": "execute_result"
    }
   ],
   "source": [
    "db_df.describe().T"
   ]
  },
  {
   "cell_type": "code",
   "execution_count": 8,
   "id": "b7835820",
   "metadata": {},
   "outputs": [],
   "source": [
    "db_df = db_df.convert_dtypes(int)"
   ]
  },
  {
   "cell_type": "code",
   "execution_count": 9,
   "id": "55c106e7",
   "metadata": {},
   "outputs": [
    {
     "data": {
      "text/html": [
       "<div>\n",
       "<style scoped>\n",
       "    .dataframe tbody tr th:only-of-type {\n",
       "        vertical-align: middle;\n",
       "    }\n",
       "\n",
       "    .dataframe tbody tr th {\n",
       "        vertical-align: top;\n",
       "    }\n",
       "\n",
       "    .dataframe thead th {\n",
       "        text-align: right;\n",
       "    }\n",
       "</style>\n",
       "<table border=\"1\" class=\"dataframe\">\n",
       "  <thead>\n",
       "    <tr style=\"text-align: right;\">\n",
       "      <th></th>\n",
       "      <th>Diabetes_012</th>\n",
       "      <th>HighBP</th>\n",
       "      <th>HighChol</th>\n",
       "      <th>CholCheck</th>\n",
       "      <th>BMI</th>\n",
       "      <th>Smoker</th>\n",
       "      <th>Stroke</th>\n",
       "      <th>HeartDiseaseorAttack</th>\n",
       "      <th>PhysActivity</th>\n",
       "      <th>Fruits</th>\n",
       "      <th>...</th>\n",
       "      <th>AnyHealthcare</th>\n",
       "      <th>NoDocbcCost</th>\n",
       "      <th>GenHlth</th>\n",
       "      <th>MentHlth</th>\n",
       "      <th>PhysHlth</th>\n",
       "      <th>DiffWalk</th>\n",
       "      <th>Sex</th>\n",
       "      <th>Age</th>\n",
       "      <th>Education</th>\n",
       "      <th>Income</th>\n",
       "    </tr>\n",
       "  </thead>\n",
       "  <tbody>\n",
       "    <tr>\n",
       "      <th>count</th>\n",
       "      <td>253680.000000</td>\n",
       "      <td>253680.000000</td>\n",
       "      <td>253680.000000</td>\n",
       "      <td>253680.000000</td>\n",
       "      <td>253680.000000</td>\n",
       "      <td>253680.000000</td>\n",
       "      <td>253680.000000</td>\n",
       "      <td>253680.000000</td>\n",
       "      <td>253680.000000</td>\n",
       "      <td>253680.000000</td>\n",
       "      <td>...</td>\n",
       "      <td>253680.000000</td>\n",
       "      <td>253680.000000</td>\n",
       "      <td>253680.000000</td>\n",
       "      <td>253680.000000</td>\n",
       "      <td>253680.000000</td>\n",
       "      <td>253680.000000</td>\n",
       "      <td>253680.000000</td>\n",
       "      <td>253680.000000</td>\n",
       "      <td>253680.000000</td>\n",
       "      <td>253680.000000</td>\n",
       "    </tr>\n",
       "    <tr>\n",
       "      <th>mean</th>\n",
       "      <td>0.296921</td>\n",
       "      <td>0.429001</td>\n",
       "      <td>0.424121</td>\n",
       "      <td>0.962670</td>\n",
       "      <td>28.382364</td>\n",
       "      <td>0.443169</td>\n",
       "      <td>0.040571</td>\n",
       "      <td>0.094186</td>\n",
       "      <td>0.756544</td>\n",
       "      <td>0.634256</td>\n",
       "      <td>...</td>\n",
       "      <td>0.951053</td>\n",
       "      <td>0.084177</td>\n",
       "      <td>2.511392</td>\n",
       "      <td>3.184772</td>\n",
       "      <td>4.242081</td>\n",
       "      <td>0.168224</td>\n",
       "      <td>0.440342</td>\n",
       "      <td>8.032119</td>\n",
       "      <td>5.050434</td>\n",
       "      <td>6.053875</td>\n",
       "    </tr>\n",
       "    <tr>\n",
       "      <th>std</th>\n",
       "      <td>0.698160</td>\n",
       "      <td>0.494934</td>\n",
       "      <td>0.494210</td>\n",
       "      <td>0.189571</td>\n",
       "      <td>6.608694</td>\n",
       "      <td>0.496761</td>\n",
       "      <td>0.197294</td>\n",
       "      <td>0.292087</td>\n",
       "      <td>0.429169</td>\n",
       "      <td>0.481639</td>\n",
       "      <td>...</td>\n",
       "      <td>0.215759</td>\n",
       "      <td>0.277654</td>\n",
       "      <td>1.068477</td>\n",
       "      <td>7.412847</td>\n",
       "      <td>8.717951</td>\n",
       "      <td>0.374066</td>\n",
       "      <td>0.496429</td>\n",
       "      <td>3.054220</td>\n",
       "      <td>0.985774</td>\n",
       "      <td>2.071148</td>\n",
       "    </tr>\n",
       "    <tr>\n",
       "      <th>min</th>\n",
       "      <td>0.000000</td>\n",
       "      <td>0.000000</td>\n",
       "      <td>0.000000</td>\n",
       "      <td>0.000000</td>\n",
       "      <td>12.000000</td>\n",
       "      <td>0.000000</td>\n",
       "      <td>0.000000</td>\n",
       "      <td>0.000000</td>\n",
       "      <td>0.000000</td>\n",
       "      <td>0.000000</td>\n",
       "      <td>...</td>\n",
       "      <td>0.000000</td>\n",
       "      <td>0.000000</td>\n",
       "      <td>1.000000</td>\n",
       "      <td>0.000000</td>\n",
       "      <td>0.000000</td>\n",
       "      <td>0.000000</td>\n",
       "      <td>0.000000</td>\n",
       "      <td>1.000000</td>\n",
       "      <td>1.000000</td>\n",
       "      <td>1.000000</td>\n",
       "    </tr>\n",
       "    <tr>\n",
       "      <th>25%</th>\n",
       "      <td>0.000000</td>\n",
       "      <td>0.000000</td>\n",
       "      <td>0.000000</td>\n",
       "      <td>1.000000</td>\n",
       "      <td>24.000000</td>\n",
       "      <td>0.000000</td>\n",
       "      <td>0.000000</td>\n",
       "      <td>0.000000</td>\n",
       "      <td>1.000000</td>\n",
       "      <td>0.000000</td>\n",
       "      <td>...</td>\n",
       "      <td>1.000000</td>\n",
       "      <td>0.000000</td>\n",
       "      <td>2.000000</td>\n",
       "      <td>0.000000</td>\n",
       "      <td>0.000000</td>\n",
       "      <td>0.000000</td>\n",
       "      <td>0.000000</td>\n",
       "      <td>6.000000</td>\n",
       "      <td>4.000000</td>\n",
       "      <td>5.000000</td>\n",
       "    </tr>\n",
       "    <tr>\n",
       "      <th>50%</th>\n",
       "      <td>0.000000</td>\n",
       "      <td>0.000000</td>\n",
       "      <td>0.000000</td>\n",
       "      <td>1.000000</td>\n",
       "      <td>27.000000</td>\n",
       "      <td>0.000000</td>\n",
       "      <td>0.000000</td>\n",
       "      <td>0.000000</td>\n",
       "      <td>1.000000</td>\n",
       "      <td>1.000000</td>\n",
       "      <td>...</td>\n",
       "      <td>1.000000</td>\n",
       "      <td>0.000000</td>\n",
       "      <td>2.000000</td>\n",
       "      <td>0.000000</td>\n",
       "      <td>0.000000</td>\n",
       "      <td>0.000000</td>\n",
       "      <td>0.000000</td>\n",
       "      <td>8.000000</td>\n",
       "      <td>5.000000</td>\n",
       "      <td>7.000000</td>\n",
       "    </tr>\n",
       "    <tr>\n",
       "      <th>75%</th>\n",
       "      <td>0.000000</td>\n",
       "      <td>1.000000</td>\n",
       "      <td>1.000000</td>\n",
       "      <td>1.000000</td>\n",
       "      <td>31.000000</td>\n",
       "      <td>1.000000</td>\n",
       "      <td>0.000000</td>\n",
       "      <td>0.000000</td>\n",
       "      <td>1.000000</td>\n",
       "      <td>1.000000</td>\n",
       "      <td>...</td>\n",
       "      <td>1.000000</td>\n",
       "      <td>0.000000</td>\n",
       "      <td>3.000000</td>\n",
       "      <td>2.000000</td>\n",
       "      <td>3.000000</td>\n",
       "      <td>0.000000</td>\n",
       "      <td>1.000000</td>\n",
       "      <td>10.000000</td>\n",
       "      <td>6.000000</td>\n",
       "      <td>8.000000</td>\n",
       "    </tr>\n",
       "    <tr>\n",
       "      <th>max</th>\n",
       "      <td>2.000000</td>\n",
       "      <td>1.000000</td>\n",
       "      <td>1.000000</td>\n",
       "      <td>1.000000</td>\n",
       "      <td>98.000000</td>\n",
       "      <td>1.000000</td>\n",
       "      <td>1.000000</td>\n",
       "      <td>1.000000</td>\n",
       "      <td>1.000000</td>\n",
       "      <td>1.000000</td>\n",
       "      <td>...</td>\n",
       "      <td>1.000000</td>\n",
       "      <td>1.000000</td>\n",
       "      <td>5.000000</td>\n",
       "      <td>30.000000</td>\n",
       "      <td>30.000000</td>\n",
       "      <td>1.000000</td>\n",
       "      <td>1.000000</td>\n",
       "      <td>13.000000</td>\n",
       "      <td>6.000000</td>\n",
       "      <td>8.000000</td>\n",
       "    </tr>\n",
       "  </tbody>\n",
       "</table>\n",
       "<p>8 rows × 22 columns</p>\n",
       "</div>"
      ],
      "text/plain": [
       "        Diabetes_012         HighBP       HighChol      CholCheck  \\\n",
       "count  253680.000000  253680.000000  253680.000000  253680.000000   \n",
       "mean        0.296921       0.429001       0.424121       0.962670   \n",
       "std         0.698160       0.494934       0.494210       0.189571   \n",
       "min         0.000000       0.000000       0.000000       0.000000   \n",
       "25%         0.000000       0.000000       0.000000       1.000000   \n",
       "50%         0.000000       0.000000       0.000000       1.000000   \n",
       "75%         0.000000       1.000000       1.000000       1.000000   \n",
       "max         2.000000       1.000000       1.000000       1.000000   \n",
       "\n",
       "                 BMI         Smoker         Stroke  HeartDiseaseorAttack  \\\n",
       "count  253680.000000  253680.000000  253680.000000         253680.000000   \n",
       "mean       28.382364       0.443169       0.040571              0.094186   \n",
       "std         6.608694       0.496761       0.197294              0.292087   \n",
       "min        12.000000       0.000000       0.000000              0.000000   \n",
       "25%        24.000000       0.000000       0.000000              0.000000   \n",
       "50%        27.000000       0.000000       0.000000              0.000000   \n",
       "75%        31.000000       1.000000       0.000000              0.000000   \n",
       "max        98.000000       1.000000       1.000000              1.000000   \n",
       "\n",
       "        PhysActivity         Fruits  ...  AnyHealthcare    NoDocbcCost  \\\n",
       "count  253680.000000  253680.000000  ...  253680.000000  253680.000000   \n",
       "mean        0.756544       0.634256  ...       0.951053       0.084177   \n",
       "std         0.429169       0.481639  ...       0.215759       0.277654   \n",
       "min         0.000000       0.000000  ...       0.000000       0.000000   \n",
       "25%         1.000000       0.000000  ...       1.000000       0.000000   \n",
       "50%         1.000000       1.000000  ...       1.000000       0.000000   \n",
       "75%         1.000000       1.000000  ...       1.000000       0.000000   \n",
       "max         1.000000       1.000000  ...       1.000000       1.000000   \n",
       "\n",
       "             GenHlth       MentHlth       PhysHlth       DiffWalk  \\\n",
       "count  253680.000000  253680.000000  253680.000000  253680.000000   \n",
       "mean        2.511392       3.184772       4.242081       0.168224   \n",
       "std         1.068477       7.412847       8.717951       0.374066   \n",
       "min         1.000000       0.000000       0.000000       0.000000   \n",
       "25%         2.000000       0.000000       0.000000       0.000000   \n",
       "50%         2.000000       0.000000       0.000000       0.000000   \n",
       "75%         3.000000       2.000000       3.000000       0.000000   \n",
       "max         5.000000      30.000000      30.000000       1.000000   \n",
       "\n",
       "                 Sex            Age      Education         Income  \n",
       "count  253680.000000  253680.000000  253680.000000  253680.000000  \n",
       "mean        0.440342       8.032119       5.050434       6.053875  \n",
       "std         0.496429       3.054220       0.985774       2.071148  \n",
       "min         0.000000       1.000000       1.000000       1.000000  \n",
       "25%         0.000000       6.000000       4.000000       5.000000  \n",
       "50%         0.000000       8.000000       5.000000       7.000000  \n",
       "75%         1.000000      10.000000       6.000000       8.000000  \n",
       "max         1.000000      13.000000       6.000000       8.000000  \n",
       "\n",
       "[8 rows x 22 columns]"
      ]
     },
     "execution_count": 9,
     "metadata": {},
     "output_type": "execute_result"
    }
   ],
   "source": [
    "db_df.describe()"
   ]
  },
  {
   "cell_type": "code",
   "execution_count": 10,
   "id": "abededc7",
   "metadata": {},
   "outputs": [
    {
     "data": {
      "text/plain": [
       "<AxesSubplot:>"
      ]
     },
     "execution_count": 10,
     "metadata": {},
     "output_type": "execute_result"
    },
    {
     "data": {
      "image/png": "[encoded data removed]",
      "text/plain": [
       "<Figure size 432x288 with 2 Axes>"
      ]
     },
     "metadata": {
      "needs_background": "light"
     },
     "output_type": "display_data"
    }
   ],
   "source": [
    "sb.heatmap(db_df.corr())"
   ]
  },
  {
   "cell_type": "markdown",
   "id": "824875ec",
   "metadata": {},
   "source": [
    "First of all before I want to check about the BMI, I want to see how the values are being distrbuted in the population"
   ]
  },
  {
   "cell_type": "code",
   "execution_count": 11,
   "id": "437aceac",
   "metadata": {},
   "outputs": [
    {
     "data": {
      "text/plain": [
       "<AxesSubplot:xlabel='BMI', ylabel='Count'>"
      ]
     },
     "execution_count": 11,
     "metadata": {},
     "output_type": "execute_result"
    },
    {
     "data": {
      "image/png": "[encoded data removed]",
      "text/plain": [
       "<Figure size 432x288 with 1 Axes>"
      ]
     },
     "metadata": {
      "needs_background": "light"
     },
     "output_type": "display_data"
    }
   ],
   "source": [
    "sb.histplot(db_df.BMI, bins=50, kde=True, color='#205647')"
   ]
  },
  {
   "cell_type": "markdown",
   "id": "aa81ebdb",
   "metadata": {},
   "source": [
    "From this graph we can see that most of the population BMI is between 20 to 38 (Normal BMI range is from 18.5 to 24.9)."
   ]
  },
  {
   "cell_type": "code",
   "execution_count": 12,
   "id": "ddc9f52c",
   "metadata": {},
   "outputs": [],
   "source": [
    "db_df.Diabetes_012 = ['No Diabetes' if i == 0 else 'Prediabetes' if i == 1 else 'Diabetes' for i in db_df.Diabetes_012]\n",
    "\n"
   ]
  },
  {
   "cell_type": "code",
   "execution_count": 13,
   "id": "9de5f8d3",
   "metadata": {},
   "outputs": [],
   "source": [
    "BMI_scale = []\n",
    "for i in db_df.BMI:\n",
    "    if i < 18.5:\n",
    "        BMI_scale.append('Under weight')\n",
    "        continue\n",
    "    if i < 24.9:\n",
    "        BMI_scale.append('Normal')\n",
    "        continue\n",
    "    if i < 29.9:\n",
    "        BMI_scale.append('Over weight')\n",
    "        continue\n",
    "    if i < 34.9:\n",
    "        BMI_scale.append('Obese 1')\n",
    "        continue\n",
    "    if i < 39.9:\n",
    "        BMI_scale.append('Obese 2')\n",
    "        continue\n",
    "    BMI_scale.append('Obese 3') \n",
    "        "
   ]
  },
  {
   "cell_type": "code",
   "execution_count": 14,
   "id": "ff902e48",
   "metadata": {},
   "outputs": [],
   "source": [
    "db_df['BMI_scale'] = BMI_scale"
   ]
  },
  {
   "cell_type": "code",
   "execution_count": 15,
   "id": "5e2e9075",
   "metadata": {},
   "outputs": [
    {
     "data": {
      "text/plain": [
       "0.05696633939059939"
      ]
     },
     "execution_count": 15,
     "metadata": {},
     "output_type": "execute_result"
    }
   ],
   "source": [
    "db_df.groupby(['BMI_scale','Diabetes_012']).count()['HighBP'][:1].sum()/db_df.groupby(['BMI_scale','Diabetes_012']).count()['HighBP'][:3].sum()"
   ]
  },
  {
   "cell_type": "code",
   "execution_count": 16,
   "id": "65acdf93",
   "metadata": {},
   "outputs": [],
   "source": [
    "bmi_diabetes = db_df.groupby(['BMI_scale','Diabetes_012']).count()[['Smoker','Stroke']].rename(columns={'Smoker':'Count1','Stroke':'Count2'})"
   ]
  },
  {
   "cell_type": "code",
   "execution_count": 17,
   "id": "def93556",
   "metadata": {},
   "outputs": [
    {
     "data": {
      "text/html": [
       "<div>\n",
       "<style scoped>\n",
       "    .dataframe tbody tr th:only-of-type {\n",
       "        vertical-align: middle;\n",
       "    }\n",
       "\n",
       "    .dataframe tbody tr th {\n",
       "        vertical-align: top;\n",
       "    }\n",
       "\n",
       "    .dataframe thead th {\n",
       "        text-align: right;\n",
       "    }\n",
       "</style>\n",
       "<table border=\"1\" class=\"dataframe\">\n",
       "  <thead>\n",
       "    <tr style=\"text-align: right;\">\n",
       "      <th></th>\n",
       "      <th></th>\n",
       "      <th>Count1</th>\n",
       "      <th>Count2</th>\n",
       "    </tr>\n",
       "    <tr>\n",
       "      <th>BMI_scale</th>\n",
       "      <th>Diabetes_012</th>\n",
       "      <th></th>\n",
       "      <th></th>\n",
       "    </tr>\n",
       "  </thead>\n",
       "  <tbody>\n",
       "    <tr>\n",
       "      <th rowspan=\"3\" valign=\"top\">Normal</th>\n",
       "      <th>Diabetes</th>\n",
       "      <td>3928</td>\n",
       "      <td>3928</td>\n",
       "    </tr>\n",
       "    <tr>\n",
       "      <th>No Diabetes</th>\n",
       "      <td>64336</td>\n",
       "      <td>64336</td>\n",
       "    </tr>\n",
       "    <tr>\n",
       "      <th>Prediabetes</th>\n",
       "      <td>689</td>\n",
       "      <td>689</td>\n",
       "    </tr>\n",
       "    <tr>\n",
       "      <th rowspan=\"3\" valign=\"top\">Obese 1</th>\n",
       "      <th>Diabetes</th>\n",
       "      <td>10281</td>\n",
       "      <td>10281</td>\n",
       "    </tr>\n",
       "    <tr>\n",
       "      <th>No Diabetes</th>\n",
       "      <td>41855</td>\n",
       "      <td>41855</td>\n",
       "    </tr>\n",
       "    <tr>\n",
       "      <th>Prediabetes</th>\n",
       "      <td>1315</td>\n",
       "      <td>1315</td>\n",
       "    </tr>\n",
       "    <tr>\n",
       "      <th rowspan=\"3\" valign=\"top\">Obese 2</th>\n",
       "      <th>Diabetes</th>\n",
       "      <td>5669</td>\n",
       "      <td>5669</td>\n",
       "    </tr>\n",
       "    <tr>\n",
       "      <th>No Diabetes</th>\n",
       "      <td>14346</td>\n",
       "      <td>14346</td>\n",
       "    </tr>\n",
       "    <tr>\n",
       "      <th>Prediabetes</th>\n",
       "      <td>648</td>\n",
       "      <td>648</td>\n",
       "    </tr>\n",
       "    <tr>\n",
       "      <th rowspan=\"3\" valign=\"top\">Obese 3</th>\n",
       "      <th>Diabetes</th>\n",
       "      <td>4607</td>\n",
       "      <td>4607</td>\n",
       "    </tr>\n",
       "    <tr>\n",
       "      <th>No Diabetes</th>\n",
       "      <td>8705</td>\n",
       "      <td>8705</td>\n",
       "    </tr>\n",
       "    <tr>\n",
       "      <th>Prediabetes</th>\n",
       "      <td>425</td>\n",
       "      <td>425</td>\n",
       "    </tr>\n",
       "    <tr>\n",
       "      <th rowspan=\"3\" valign=\"top\">Over weight</th>\n",
       "      <th>Diabetes</th>\n",
       "      <td>10692</td>\n",
       "      <td>10692</td>\n",
       "    </tr>\n",
       "    <tr>\n",
       "      <th>No Diabetes</th>\n",
       "      <td>81531</td>\n",
       "      <td>81531</td>\n",
       "    </tr>\n",
       "    <tr>\n",
       "      <th>Prediabetes</th>\n",
       "      <td>1526</td>\n",
       "      <td>1526</td>\n",
       "    </tr>\n",
       "    <tr>\n",
       "      <th rowspan=\"3\" valign=\"top\">Under weight</th>\n",
       "      <th>Diabetes</th>\n",
       "      <td>169</td>\n",
       "      <td>169</td>\n",
       "    </tr>\n",
       "    <tr>\n",
       "      <th>No Diabetes</th>\n",
       "      <td>2930</td>\n",
       "      <td>2930</td>\n",
       "    </tr>\n",
       "    <tr>\n",
       "      <th>Prediabetes</th>\n",
       "      <td>28</td>\n",
       "      <td>28</td>\n",
       "    </tr>\n",
       "  </tbody>\n",
       "</table>\n",
       "</div>"
      ],
      "text/plain": [
       "                           Count1  Count2\n",
       "BMI_scale    Diabetes_012                \n",
       "Normal       Diabetes        3928    3928\n",
       "             No Diabetes    64336   64336\n",
       "             Prediabetes      689     689\n",
       "Obese 1      Diabetes       10281   10281\n",
       "             No Diabetes    41855   41855\n",
       "             Prediabetes     1315    1315\n",
       "Obese 2      Diabetes        5669    5669\n",
       "             No Diabetes    14346   14346\n",
       "             Prediabetes      648     648\n",
       "Obese 3      Diabetes        4607    4607\n",
       "             No Diabetes     8705    8705\n",
       "             Prediabetes      425     425\n",
       "Over weight  Diabetes       10692   10692\n",
       "             No Diabetes    81531   81531\n",
       "             Prediabetes     1526    1526\n",
       "Under weight Diabetes         169     169\n",
       "             No Diabetes     2930    2930\n",
       "             Prediabetes       28      28"
      ]
     },
     "execution_count": 17,
     "metadata": {},
     "output_type": "execute_result"
    }
   ],
   "source": [
    "bmi_diabetes"
   ]
  },
  {
   "cell_type": "code",
   "execution_count": 18,
   "id": "8e4977f8",
   "metadata": {},
   "outputs": [],
   "source": [
    "percentage = []\n",
    "for i in range(3,len(bmi_diabetes)+3,3):\n",
    "    for j in range(i-2,i+1):\n",
    "        percentage.append(bmi_diabetes['Count2'][j-1:j].sum()/bmi_diabetes['Count2'][i-3:i].sum())\n",
    "        "
   ]
  },
  {
   "cell_type": "code",
   "execution_count": 19,
   "id": "a6c91f2b",
   "metadata": {},
   "outputs": [],
   "source": [
    "bmi_diabetes['Count2'] = percentage"
   ]
  },
  {
   "cell_type": "code",
   "execution_count": 20,
   "id": "9b95e1de",
   "metadata": {},
   "outputs": [],
   "source": [
    "bmi_diabetes = pd.concat([bmi_diabetes[15:18], bmi_diabetes[:3], bmi_diabetes[12:15], bmi_diabetes[3:12]])"
   ]
  },
  {
   "cell_type": "code",
   "execution_count": 21,
   "id": "d12c3055",
   "metadata": {},
   "outputs": [
    {
     "data": {
      "image/png": "[encoded data removed]",
      "text/plain": [
       "<Figure size 720x720 with 6 Axes>"
      ]
     },
     "metadata": {},
     "output_type": "display_data"
    }
   ],
   "source": [
    "fig, ax = plt.subplots(2,3,figsize=(10,10))\n",
    "axis = [(0,0),(0,1),(0,2),(1,0),(1,1),(1,2)]\n",
    "Titles = bmi_diabetes.index\n",
    "parts = ['No diabetes','Prediabetes','Diabetes']\n",
    "counter = 0\n",
    "colors = colors = ['#F99770','#20a3c2','#3fbf7c']\n",
    "fig.suptitle('BMI SCALES', fontsize=24)\n",
    "fig.text(0.3,0.55, 'No Diabetes', fontsize=15, color='#20a3c2')\n",
    "fig.text(0.3,0.51, 'Prediabetes', fontsize=15, color='#3fbf7c')\n",
    "fig.text(0.3,0.47, 'Diabetes', fontsize=15, color='#F99770')\n",
    "fig.text(0.18,0.57, 'BMI < 18.5', fontsize=15)\n",
    "fig.text(0.45,0.57, '18.5-24.9', fontsize=15)\n",
    "fig.text(0.72,0.57, '24.9-29.9', fontsize=15)\n",
    "fig.text(0.18,0.15, '29.9-34.9', fontsize=15)\n",
    "fig.text(0.45,0.15, '34.9-39.9', fontsize=15)\n",
    "fig.text(0.72,0.15, '39.9 < BMI', fontsize=15)\n",
    "for i in range(3,len(bmi_diabetes)+3,3):\n",
    "    ax[axis[counter]].pie(bmi_diabetes['Count2'][i-3:i],explode=(0.13,0,0),colors=colors,autopct='%1.1f%%',radius=1.2,shadow=True, normalize=False)\n",
    "    ax[axis[counter]].set_title(Titles[i-3][0],fontsize=20)\n",
    "    counter+=1\n",
    "\n",
    "# fig.savefig('bmi_scales_and_diabetes.png')"
   ]
  },
  {
   "cell_type": "markdown",
   "id": "8ef23fec",
   "metadata": {},
   "source": [
    "### From this plot we can derive that being over weight and more and more obese means you have higher risk for Diabetes"
   ]
  },
  {
   "cell_type": "code",
   "execution_count": 22,
   "id": "6a2617d1",
   "metadata": {},
   "outputs": [
    {
     "data": {
      "image/png": "[encoded data removed]",
      "text/plain": [
       "<Figure size 432x288 with 1 Axes>"
      ]
     },
     "metadata": {
      "needs_background": "light"
     },
     "output_type": "display_data"
    }
   ],
   "source": [
    "f = sb.countplot(data=db_df,x='GenHlth', hue='Diabetes_012')"
   ]
  },
  {
   "cell_type": "markdown",
   "id": "60927c39",
   "metadata": {},
   "source": [
    "This graph always lies becuse it doesn't have proprtions, we can change it to percents and it might give\n",
    "us something with value."
   ]
  },
  {
   "cell_type": "code",
   "execution_count": 23,
   "id": "c1b4ba0f",
   "metadata": {},
   "outputs": [
    {
     "data": {
      "text/plain": [
       "Text(5, 60, 'Excellent = 1\\nPoor = 5')"
      ]
     },
     "execution_count": 23,
     "metadata": {},
     "output_type": "execute_result"
    },
    {
     "data": {
      "image/png": "[encoded data removed]",
      "text/plain": [
       "<Figure size 457x360 with 1 Axes>"
      ]
     },
     "metadata": {
      "needs_background": "light"
     },
     "output_type": "display_data"
    }
   ],
   "source": [
    "x,y = 'GenHlth', 'Diabetes_012'\n",
    "# General health is between 1 to 5, from good to poor\n",
    "df1 = db_df.groupby(x)[y].value_counts(normalize=True)\n",
    "df1 = df1.mul(100)\n",
    "df1 = df1.rename('percent').reset_index()\n",
    "g = sb.catplot(x=x,y='percent',hue=y,kind='bar',data=df1, palette='winter_r')\n",
    "g.ax.set_ylim(0,100)\n",
    "\n",
    "for p in g.ax.patches:\n",
    "    txt = str(p.get_height().round(2)) + '%'\n",
    "    txt_x = p.get_x()\n",
    "    txt_y = p.get_height()\n",
    "    g.ax.text(txt_x,txt_y,txt)\n",
    "g.ax.text(5,60, 'Excellent = 1\\nPoor = 5')\n",
    "# g.savefig('General_Health_and_Diabetes.png')"
   ]
  },
  {
   "cell_type": "markdown",
   "id": "c0ae0552",
   "metadata": {},
   "source": [
    "Subjective reported indication of health by the patients\n",
    "1 - Excellent \n",
    "5 - Poor\n",
    "\n",
    "\n",
    "This graph gives us much better prespective about the data and the relation between General health and Diabetes."
   ]
  },
  {
   "cell_type": "code",
   "execution_count": 24,
   "id": "c9b720de",
   "metadata": {},
   "outputs": [],
   "source": [
    "percent_wom_man_diabets = db_df.groupby(['Sex'])['Diabetes_012'].value_counts(normalize=True)"
   ]
  },
  {
   "cell_type": "code",
   "execution_count": 25,
   "id": "5c3727f7",
   "metadata": {},
   "outputs": [],
   "source": [
    "percent_wom_man_diabets = percent_wom_man_diabets*100"
   ]
  },
  {
   "cell_type": "code",
   "execution_count": 26,
   "id": "c6dc9d5c",
   "metadata": {},
   "outputs": [
    {
     "data": {
      "text/plain": [
       "Sex  Diabetes_012\n",
       "0    No Diabetes     85.197994\n",
       "     Diabetes        12.967867\n",
       "     Prediabetes      1.834139\n",
       "1    No Diabetes     83.025084\n",
       "     Diabetes        15.160332\n",
       "     Prediabetes      1.814585\n",
       "Name: Diabetes_012, dtype: float64"
      ]
     },
     "execution_count": 26,
     "metadata": {},
     "output_type": "execute_result"
    }
   ],
   "source": [
    "percent_wom_man_diabets"
   ]
  },
  {
   "cell_type": "code",
   "execution_count": 27,
   "id": "3de32290",
   "metadata": {},
   "outputs": [],
   "source": [
    "percent_wom_man_diabets = percent_wom_man_diabets.rename('percent').reset_index()"
   ]
  },
  {
   "cell_type": "code",
   "execution_count": 28,
   "id": "a6248476",
   "metadata": {},
   "outputs": [
    {
     "data": {
      "text/html": [
       "<div>\n",
       "<style scoped>\n",
       "    .dataframe tbody tr th:only-of-type {\n",
       "        vertical-align: middle;\n",
       "    }\n",
       "\n",
       "    .dataframe tbody tr th {\n",
       "        vertical-align: top;\n",
       "    }\n",
       "\n",
       "    .dataframe thead th {\n",
       "        text-align: right;\n",
       "    }\n",
       "</style>\n",
       "<table border=\"1\" class=\"dataframe\">\n",
       "  <thead>\n",
       "    <tr style=\"text-align: right;\">\n",
       "      <th></th>\n",
       "      <th>Sex</th>\n",
       "      <th>Diabetes_012</th>\n",
       "      <th>percent</th>\n",
       "    </tr>\n",
       "  </thead>\n",
       "  <tbody>\n",
       "    <tr>\n",
       "      <th>0</th>\n",
       "      <td>0</td>\n",
       "      <td>No Diabetes</td>\n",
       "      <td>85.197994</td>\n",
       "    </tr>\n",
       "    <tr>\n",
       "      <th>1</th>\n",
       "      <td>0</td>\n",
       "      <td>Diabetes</td>\n",
       "      <td>12.967867</td>\n",
       "    </tr>\n",
       "    <tr>\n",
       "      <th>2</th>\n",
       "      <td>0</td>\n",
       "      <td>Prediabetes</td>\n",
       "      <td>1.834139</td>\n",
       "    </tr>\n",
       "    <tr>\n",
       "      <th>3</th>\n",
       "      <td>1</td>\n",
       "      <td>No Diabetes</td>\n",
       "      <td>83.025084</td>\n",
       "    </tr>\n",
       "    <tr>\n",
       "      <th>4</th>\n",
       "      <td>1</td>\n",
       "      <td>Diabetes</td>\n",
       "      <td>15.160332</td>\n",
       "    </tr>\n",
       "    <tr>\n",
       "      <th>5</th>\n",
       "      <td>1</td>\n",
       "      <td>Prediabetes</td>\n",
       "      <td>1.814585</td>\n",
       "    </tr>\n",
       "  </tbody>\n",
       "</table>\n",
       "</div>"
      ],
      "text/plain": [
       "   Sex Diabetes_012    percent\n",
       "0    0  No Diabetes  85.197994\n",
       "1    0     Diabetes  12.967867\n",
       "2    0  Prediabetes   1.834139\n",
       "3    1  No Diabetes  83.025084\n",
       "4    1     Diabetes  15.160332\n",
       "5    1  Prediabetes   1.814585"
      ]
     },
     "execution_count": 28,
     "metadata": {},
     "output_type": "execute_result"
    }
   ],
   "source": [
    "percent_wom_man_diabets"
   ]
  },
  {
   "cell_type": "code",
   "execution_count": 29,
   "id": "55806f0f",
   "metadata": {},
   "outputs": [],
   "source": [
    "percent_wom_man_diabets.Sex = ['Men' if i == 1 else 'Women' for i in percent_wom_man_diabets.Sex]"
   ]
  },
  {
   "cell_type": "code",
   "execution_count": 30,
   "id": "c97c38c2",
   "metadata": {},
   "outputs": [
    {
     "data": {
      "text/html": [
       "<div>\n",
       "<style scoped>\n",
       "    .dataframe tbody tr th:only-of-type {\n",
       "        vertical-align: middle;\n",
       "    }\n",
       "\n",
       "    .dataframe tbody tr th {\n",
       "        vertical-align: top;\n",
       "    }\n",
       "\n",
       "    .dataframe thead th {\n",
       "        text-align: right;\n",
       "    }\n",
       "</style>\n",
       "<table border=\"1\" class=\"dataframe\">\n",
       "  <thead>\n",
       "    <tr style=\"text-align: right;\">\n",
       "      <th></th>\n",
       "      <th>Sex</th>\n",
       "      <th>Diabetes_012</th>\n",
       "      <th>percent</th>\n",
       "    </tr>\n",
       "  </thead>\n",
       "  <tbody>\n",
       "    <tr>\n",
       "      <th>0</th>\n",
       "      <td>Women</td>\n",
       "      <td>No Diabetes</td>\n",
       "      <td>85.197994</td>\n",
       "    </tr>\n",
       "    <tr>\n",
       "      <th>1</th>\n",
       "      <td>Women</td>\n",
       "      <td>Diabetes</td>\n",
       "      <td>12.967867</td>\n",
       "    </tr>\n",
       "    <tr>\n",
       "      <th>2</th>\n",
       "      <td>Women</td>\n",
       "      <td>Prediabetes</td>\n",
       "      <td>1.834139</td>\n",
       "    </tr>\n",
       "    <tr>\n",
       "      <th>3</th>\n",
       "      <td>Men</td>\n",
       "      <td>No Diabetes</td>\n",
       "      <td>83.025084</td>\n",
       "    </tr>\n",
       "    <tr>\n",
       "      <th>4</th>\n",
       "      <td>Men</td>\n",
       "      <td>Diabetes</td>\n",
       "      <td>15.160332</td>\n",
       "    </tr>\n",
       "    <tr>\n",
       "      <th>5</th>\n",
       "      <td>Men</td>\n",
       "      <td>Prediabetes</td>\n",
       "      <td>1.814585</td>\n",
       "    </tr>\n",
       "  </tbody>\n",
       "</table>\n",
       "</div>"
      ],
      "text/plain": [
       "     Sex Diabetes_012    percent\n",
       "0  Women  No Diabetes  85.197994\n",
       "1  Women     Diabetes  12.967867\n",
       "2  Women  Prediabetes   1.834139\n",
       "3    Men  No Diabetes  83.025084\n",
       "4    Men     Diabetes  15.160332\n",
       "5    Men  Prediabetes   1.814585"
      ]
     },
     "execution_count": 30,
     "metadata": {},
     "output_type": "execute_result"
    }
   ],
   "source": [
    "percent_wom_man_diabets"
   ]
  },
  {
   "cell_type": "code",
   "execution_count": 31,
   "id": "0f3e64de",
   "metadata": {},
   "outputs": [
    {
     "data": {
      "image/png": "[encoded data removed]",
      "text/plain": [
       "<Figure size 457x360 with 1 Axes>"
      ]
     },
     "metadata": {
      "needs_background": "light"
     },
     "output_type": "display_data"
    }
   ],
   "source": [
    "g = sb.catplot(x='Sex',y='percent',hue='Diabetes_012',kind='bar',data=percent_wom_man_diabets, palette='Accent')\n",
    "g.ax.set_ylim(0,100)\n",
    "for p in g.ax.patches:\n",
    "    txt = str(p.get_height().round(2)) + '%'\n",
    "    txt_x = p.get_x()\n",
    "    txt_y = p.get_height()\n",
    "    g.ax.text(txt_x,txt_y,txt)\n",
    "# g.savefig('sex_diabetes_realtion.png')"
   ]
  },
  {
   "cell_type": "markdown",
   "id": "98761414",
   "metadata": {},
   "source": [
    "The likelihood of having Diabetes has nothing to do about sex."
   ]
  },
  {
   "cell_type": "markdown",
   "id": "0cda7c4d",
   "metadata": {},
   "source": [
    "Lets explore the relation between Physical Activity and Sex in the terms of bmi."
   ]
  },
  {
   "cell_type": "code",
   "execution_count": 32,
   "id": "882f94b9",
   "metadata": {},
   "outputs": [],
   "source": [
    "db2 = db_df.groupby(['PhysActivity','Sex'])['Diabetes_012'].value_counts(normalize=True)"
   ]
  },
  {
   "cell_type": "code",
   "execution_count": 33,
   "id": "3c95b41b",
   "metadata": {},
   "outputs": [],
   "source": [
    "db2 = db2*100"
   ]
  },
  {
   "cell_type": "code",
   "execution_count": 34,
   "id": "bbb4744b",
   "metadata": {},
   "outputs": [],
   "source": [
    "db2 = db2.rename('percent').reset_index()"
   ]
  },
  {
   "cell_type": "code",
   "execution_count": 35,
   "id": "a849330f",
   "metadata": {},
   "outputs": [],
   "source": [
    "db2.Sex = ['Men' if i == 1 else 'Women' for i in db2.Sex]\n",
    "db2.PhysActivity = ['Active' if i == 1 else 'Not Active' for i in db2.PhysActivity]"
   ]
  },
  {
   "cell_type": "code",
   "execution_count": 36,
   "id": "fda0a059",
   "metadata": {},
   "outputs": [
    {
     "data": {
      "text/html": [
       "<div>\n",
       "<style scoped>\n",
       "    .dataframe tbody tr th:only-of-type {\n",
       "        vertical-align: middle;\n",
       "    }\n",
       "\n",
       "    .dataframe tbody tr th {\n",
       "        vertical-align: top;\n",
       "    }\n",
       "\n",
       "    .dataframe thead th {\n",
       "        text-align: right;\n",
       "    }\n",
       "</style>\n",
       "<table border=\"1\" class=\"dataframe\">\n",
       "  <thead>\n",
       "    <tr style=\"text-align: right;\">\n",
       "      <th></th>\n",
       "      <th>PhysActivity</th>\n",
       "      <th>Sex</th>\n",
       "      <th>Diabetes_012</th>\n",
       "      <th>percent</th>\n",
       "    </tr>\n",
       "  </thead>\n",
       "  <tbody>\n",
       "    <tr>\n",
       "      <th>0</th>\n",
       "      <td>Not Active</td>\n",
       "      <td>Women</td>\n",
       "      <td>No Diabetes</td>\n",
       "      <td>76.795154</td>\n",
       "    </tr>\n",
       "    <tr>\n",
       "      <th>1</th>\n",
       "      <td>Not Active</td>\n",
       "      <td>Women</td>\n",
       "      <td>Diabetes</td>\n",
       "      <td>20.817731</td>\n",
       "    </tr>\n",
       "    <tr>\n",
       "      <th>2</th>\n",
       "      <td>Not Active</td>\n",
       "      <td>Women</td>\n",
       "      <td>Prediabetes</td>\n",
       "      <td>2.387115</td>\n",
       "    </tr>\n",
       "    <tr>\n",
       "      <th>3</th>\n",
       "      <td>Not Active</td>\n",
       "      <td>Men</td>\n",
       "      <td>No Diabetes</td>\n",
       "      <td>75.943396</td>\n",
       "    </tr>\n",
       "    <tr>\n",
       "      <th>4</th>\n",
       "      <td>Not Active</td>\n",
       "      <td>Men</td>\n",
       "      <td>Diabetes</td>\n",
       "      <td>21.611635</td>\n",
       "    </tr>\n",
       "    <tr>\n",
       "      <th>5</th>\n",
       "      <td>Not Active</td>\n",
       "      <td>Men</td>\n",
       "      <td>Prediabetes</td>\n",
       "      <td>2.444969</td>\n",
       "    </tr>\n",
       "    <tr>\n",
       "      <th>6</th>\n",
       "      <td>Active</td>\n",
       "      <td>Women</td>\n",
       "      <td>No Diabetes</td>\n",
       "      <td>88.086585</td>\n",
       "    </tr>\n",
       "    <tr>\n",
       "      <th>7</th>\n",
       "      <td>Active</td>\n",
       "      <td>Women</td>\n",
       "      <td>Diabetes</td>\n",
       "      <td>10.269370</td>\n",
       "    </tr>\n",
       "    <tr>\n",
       "      <th>8</th>\n",
       "      <td>Active</td>\n",
       "      <td>Women</td>\n",
       "      <td>Prediabetes</td>\n",
       "      <td>1.644046</td>\n",
       "    </tr>\n",
       "    <tr>\n",
       "      <th>9</th>\n",
       "      <td>Active</td>\n",
       "      <td>Men</td>\n",
       "      <td>No Diabetes</td>\n",
       "      <td>85.113486</td>\n",
       "    </tr>\n",
       "    <tr>\n",
       "      <th>10</th>\n",
       "      <td>Active</td>\n",
       "      <td>Men</td>\n",
       "      <td>Diabetes</td>\n",
       "      <td>13.257830</td>\n",
       "    </tr>\n",
       "    <tr>\n",
       "      <th>11</th>\n",
       "      <td>Active</td>\n",
       "      <td>Men</td>\n",
       "      <td>Prediabetes</td>\n",
       "      <td>1.628683</td>\n",
       "    </tr>\n",
       "  </tbody>\n",
       "</table>\n",
       "</div>"
      ],
      "text/plain": [
       "   PhysActivity    Sex Diabetes_012    percent\n",
       "0    Not Active  Women  No Diabetes  76.795154\n",
       "1    Not Active  Women     Diabetes  20.817731\n",
       "2    Not Active  Women  Prediabetes   2.387115\n",
       "3    Not Active    Men  No Diabetes  75.943396\n",
       "4    Not Active    Men     Diabetes  21.611635\n",
       "5    Not Active    Men  Prediabetes   2.444969\n",
       "6        Active  Women  No Diabetes  88.086585\n",
       "7        Active  Women     Diabetes  10.269370\n",
       "8        Active  Women  Prediabetes   1.644046\n",
       "9        Active    Men  No Diabetes  85.113486\n",
       "10       Active    Men     Diabetes  13.257830\n",
       "11       Active    Men  Prediabetes   1.628683"
      ]
     },
     "execution_count": 36,
     "metadata": {},
     "output_type": "execute_result"
    }
   ],
   "source": [
    "db2"
   ]
  },
  {
   "cell_type": "code",
   "execution_count": 37,
   "id": "6ad45bed",
   "metadata": {
    "scrolled": false
   },
   "outputs": [
    {
     "data": {
      "image/png": "[encoded data removed]",
      "text/plain": [
       "<Figure size 1033x864 with 2 Axes>"
      ]
     },
     "metadata": {
      "needs_background": "light"
     },
     "output_type": "display_data"
    }
   ],
   "source": [
    "g = sb.catplot(x='Sex', y='percent', hue='Diabetes_012',row='PhysActivity', data=db2, kind='bar', height=6, aspect=13/6, legend=True, palette='hls')\n",
    "for i in range(2):\n",
    "    for j in range(2):\n",
    "        ax1 = g.facet_axis(i,0)\n",
    "        for p in ax1.patches:\n",
    "            if str(p.get_height()) != 'nan':\n",
    "                ax1.text(p.get_x() + 0.06, p.get_height() * .8, '{0:.2f}%'.format(p.get_height()), color='blue', size='large')\n",
    "# g.savefig(\"Sex_Physical_Activity_Diabetes.png\")"
   ]
  },
  {
   "cell_type": "markdown",
   "id": "ed8a8153",
   "metadata": {},
   "source": [
    "# ML Part"
   ]
  },
  {
   "cell_type": "code",
   "execution_count": 38,
   "id": "af7dd92c",
   "metadata": {},
   "outputs": [],
   "source": [
    "from sklearn.linear_model import LinearRegression, LogisticRegression\n",
    "from sklearn.preprocessing import StandardScaler, OneHotEncoder\n",
    "from sklearn.compose import ColumnTransformer, make_column_transformer\n",
    "from imblearn.over_sampling import RandomOverSampler"
   ]
  },
  {
   "cell_type": "code",
   "execution_count": 39,
   "id": "4040f840",
   "metadata": {},
   "outputs": [],
   "source": [
    "from sklearn.model_selection import train_test_split"
   ]
  },
  {
   "cell_type": "code",
   "execution_count": 40,
   "id": "4f69e892",
   "metadata": {},
   "outputs": [],
   "source": [
    "db_df['Diabetes_012'] = [0 if i == 'No Diabetes' else 1 if i == 'Prediabetes' else 2 for i in db_df['Diabetes_012']]"
   ]
  },
  {
   "cell_type": "code",
   "execution_count": 41,
   "id": "171e7e97",
   "metadata": {},
   "outputs": [],
   "source": [
    "y = db_df['Diabetes_012']"
   ]
  },
  {
   "cell_type": "code",
   "execution_count": 42,
   "id": "57c13729",
   "metadata": {},
   "outputs": [],
   "source": [
    "X = db_df.drop('Diabetes_012', axis=1)"
   ]
  },
  {
   "cell_type": "code",
   "execution_count": 43,
   "id": "3227769f",
   "metadata": {
    "scrolled": true
   },
   "outputs": [
    {
     "data": {
      "text/plain": [
       "0    0\n",
       "1    0\n",
       "2    0\n",
       "3    0\n",
       "4    0\n",
       "5    0\n",
       "Name: Diabetes_012, dtype: int64"
      ]
     },
     "execution_count": 43,
     "metadata": {},
     "output_type": "execute_result"
    }
   ],
   "source": [
    "y[:6]"
   ]
  },
  {
   "cell_type": "code",
   "execution_count": 44,
   "id": "50be2b30",
   "metadata": {},
   "outputs": [
    {
     "data": {
      "text/plain": [
       "0    213703\n",
       "2     35346\n",
       "1      4631\n",
       "Name: Diabetes_012, dtype: int64"
      ]
     },
     "execution_count": 44,
     "metadata": {},
     "output_type": "execute_result"
    }
   ],
   "source": [
    "y.value_counts()"
   ]
  },
  {
   "cell_type": "code",
   "execution_count": 45,
   "id": "578716c1",
   "metadata": {},
   "outputs": [],
   "source": [
    "ros = RandomOverSampler()"
   ]
  },
  {
   "cell_type": "code",
   "execution_count": 46,
   "id": "d7302b23",
   "metadata": {},
   "outputs": [],
   "source": [
    "# converting string to float\n",
    "BMI_scale = []\n",
    "for i in db_df.BMI_scale:\n",
    "    if i == 'Under weight':\n",
    "        BMI_scale.append(0)\n",
    "        continue\n",
    "    if i == 'Normal':\n",
    "        BMI_scale.append(1)\n",
    "        continue\n",
    "    if i == 'Over weight':\n",
    "        BMI_scale.append(2)\n",
    "        continue\n",
    "    if i == 'Obese 1':\n",
    "        BMI_scale.append(3)\n",
    "        continue\n",
    "    if i == 'Obese 2':\n",
    "        BMI_scale.append(4)\n",
    "        continue\n",
    "    BMI_scale.append(5) \n",
    "X.BMI_scale = BMI_scale"
   ]
  },
  {
   "cell_type": "code",
   "execution_count": 47,
   "id": "a198f60d",
   "metadata": {},
   "outputs": [],
   "source": [
    "X,y = ros.fit_resample(X, y)"
   ]
  },
  {
   "cell_type": "code",
   "execution_count": 48,
   "id": "e6f7ceb6",
   "metadata": {},
   "outputs": [],
   "source": [
    "cat_cols = ['HighBP', 'HighChol', 'CholCheck', 'Smoker', 'Stroke', 'HeartDiseaseorAttack', 'PhysActivity',\n",
    "            'Fruits', 'Veggies', 'HvyAlcoholConsump', 'AnyHealthcare', 'NoDocbcCost', 'DiffWalk', 'Sex', 'BMI_scale']\n",
    "num_cols = ['GenHlth', 'MentHlth', 'PhysHlth', 'Age', 'Education', 'Income']\n",
    "preprocess = make_column_transformer((OneHotEncoder(categories=\"auto\",drop=\"first\"), cat_cols),\n",
    "        remainder=StandardScaler())\n",
    "\n",
    "X_train, X_test, y_train, y_test = train_test_split(X, y, test_size=0.3)\n",
    "#fit_transform is the function that fits the transformations to the data and then does the transformation\n",
    "X_train = preprocess.fit_transform(X_train)\n",
    "\n",
    "# scale target dataset\n",
    "y = np.array(y)"
   ]
  },
  {
   "cell_type": "code",
   "execution_count": 49,
   "id": "dd395ef7",
   "metadata": {},
   "outputs": [],
   "source": [
    "y = pd.Series(y)"
   ]
  },
  {
   "cell_type": "code",
   "execution_count": 50,
   "id": "afbef7b1",
   "metadata": {},
   "outputs": [
    {
     "data": {
      "text/plain": [
       "0    213703\n",
       "2    213703\n",
       "1    213703\n",
       "dtype: int64"
      ]
     },
     "execution_count": 50,
     "metadata": {},
     "output_type": "execute_result"
    }
   ],
   "source": [
    "y.value_counts()"
   ]
  },
  {
   "cell_type": "code",
   "execution_count": 51,
   "id": "54cd111a",
   "metadata": {},
   "outputs": [],
   "source": [
    "# need to do over sampling"
   ]
  },
  {
   "cell_type": "code",
   "execution_count": 52,
   "id": "6a88c451",
   "metadata": {},
   "outputs": [],
   "source": [
    "lin_model = LinearRegression()"
   ]
  },
  {
   "cell_type": "code",
   "execution_count": 53,
   "id": "86884df3",
   "metadata": {},
   "outputs": [
    {
     "data": {
      "text/plain": [
       "LinearRegression()"
      ]
     },
     "execution_count": 53,
     "metadata": {},
     "output_type": "execute_result"
    }
   ],
   "source": [
    "lin_model.fit(X_train, y_train)"
   ]
  },
  {
   "cell_type": "code",
   "execution_count": 54,
   "id": "64dc4c69",
   "metadata": {},
   "outputs": [
    {
     "data": {
      "text/plain": [
       "0.2417336592936209"
      ]
     },
     "execution_count": 54,
     "metadata": {},
     "output_type": "execute_result"
    }
   ],
   "source": [
    "lin_model.score(preprocess.transform(X_test), y_test)"
   ]
  },
  {
   "cell_type": "markdown",
   "id": "4bc1ebb6",
   "metadata": {},
   "source": [
    "### in theory if the model is so \"bad\" i can take the oposite of the prediction\n",
    "### which is the oppsite of the linar regression"
   ]
  },
  {
   "cell_type": "code",
   "execution_count": 55,
   "id": "f164c318",
   "metadata": {},
   "outputs": [],
   "source": [
    "log_model = LogisticRegression()"
   ]
  },
  {
   "cell_type": "code",
   "execution_count": 56,
   "id": "baac6468",
   "metadata": {},
   "outputs": [
    {
     "name": "stderr",
     "output_type": "stream",
     "text": [
      "/Users/erezgilat/opt/anaconda3/lib/python3.9/site-packages/sklearn/linear_model/_logistic.py:814: ConvergenceWarning: lbfgs failed to converge (status=1):\n",
      "STOP: TOTAL NO. of ITERATIONS REACHED LIMIT.\n",
      "\n",
      "Increase the number of iterations (max_iter) or scale the data as shown in:\n",
      "    https://scikit-learn.org/stable/modules/preprocessing.html\n",
      "Please also refer to the documentation for alternative solver options:\n",
      "    https://scikit-learn.org/stable/modules/linear_model.html#logistic-regression\n",
      "  n_iter_i = _check_optimize_result(\n"
     ]
    },
    {
     "data": {
      "text/plain": [
       "LogisticRegression()"
      ]
     },
     "execution_count": 56,
     "metadata": {},
     "output_type": "execute_result"
    }
   ],
   "source": [
    "log_model.fit(X_train, y_train)"
   ]
  },
  {
   "cell_type": "code",
   "execution_count": 57,
   "id": "f9eb2cf4",
   "metadata": {},
   "outputs": [
    {
     "data": {
      "text/plain": [
       "0.5225052383106383"
      ]
     },
     "execution_count": 57,
     "metadata": {},
     "output_type": "execute_result"
    }
   ],
   "source": [
    "log_model.score(preprocess.transform(X_test), y_test)"
   ]
  },
  {
   "cell_type": "code",
   "execution_count": 58,
   "id": "9b5f58fd",
   "metadata": {},
   "outputs": [],
   "source": [
    "from sklearn.ensemble import RandomForestClassifier"
   ]
  },
  {
   "cell_type": "markdown",
   "id": "80dde77d",
   "metadata": {},
   "source": [
    "First of all I creat a random grid of hyper paramaters"
   ]
  },
  {
   "cell_type": "code",
   "execution_count": 59,
   "id": "e140fe17",
   "metadata": {},
   "outputs": [
    {
     "name": "stdout",
     "output_type": "stream",
     "text": [
      "{'n_estimators': [10, 257, 505, 752, 1000], 'max_features': ['auto', 'sqrt'], 'max_depth': [10, 43, 76, 110, None], 'min_samples_split': [2, 5, 10], 'min_samples_leaf': [1, 2, 4]}\n"
     ]
    }
   ],
   "source": [
    "from sklearn.model_selection import RandomizedSearchCV\n",
    "# Number of trees in random forest\n",
    "n_estimators = [int(x) for x in np.linspace(start = 10, stop = 1000, num = 5)]\n",
    "# Number of features to consider at every split\n",
    "max_features = ['auto', 'sqrt']\n",
    "# Maximum number of levels in tree\n",
    "max_depth = [int(x) for x in np.linspace(10, 110, num = 4)]\n",
    "max_depth.append(None) #the default\n",
    "# Minimum number of samples required to split a node\n",
    "min_samples_split = [2, 5, 10]\n",
    "# Minimum number of samples required at each leaf node\n",
    "min_samples_leaf = [1, 2, 4]\n",
    "# Create the random grid\n",
    "random_grid = {'n_estimators': n_estimators,\n",
    "               'max_features': max_features,\n",
    "               'max_depth': max_depth,\n",
    "               'min_samples_split': min_samples_split,\n",
    "               'min_samples_leaf': min_samples_leaf\n",
    "              }\n",
    "print(random_grid)"
   ]
  },
  {
   "cell_type": "markdown",
   "id": "224d70e3",
   "metadata": {},
   "source": [
    "In the next cell we are creating a Randomized search cross validation, this will help us find the best hyper parameters of a random forest"
   ]
  },
  {
   "cell_type": "code",
   "execution_count": 60,
   "id": "9cca7982",
   "metadata": {},
   "outputs": [],
   "source": [
    "cl_random_forest_grid =  RandomForestClassifier()\n",
    "rf_random = RandomizedSearchCV(estimator=cl_random_forest_grid , \n",
    "                               param_distributions = random_grid,\n",
    "                               n_iter = 5,  #how many fits, tradeoff!!\n",
    "                               cv = 3,\n",
    "                               verbose=True, \n",
    "                               random_state=47, \n",
    "                               n_jobs = -1)"
   ]
  },
  {
   "cell_type": "code",
   "execution_count": 61,
   "id": "409df01d",
   "metadata": {},
   "outputs": [
    {
     "name": "stdout",
     "output_type": "stream",
     "text": [
      "Fitting 3 folds for each of 5 candidates, totalling 15 fits\n",
      "CPU times: user 6min 36s, sys: 7.25 s, total: 6min 43s\n",
      "Wall time: 21min 45s\n"
     ]
    },
    {
     "data": {
      "text/plain": [
       "RandomizedSearchCV(cv=3, estimator=RandomForestClassifier(), n_iter=5,\n",
       "                   n_jobs=-1,\n",
       "                   param_distributions={'max_depth': [10, 43, 76, 110, None],\n",
       "                                        'max_features': ['auto', 'sqrt'],\n",
       "                                        'min_samples_leaf': [1, 2, 4],\n",
       "                                        'min_samples_split': [2, 5, 10],\n",
       "                                        'n_estimators': [10, 257, 505, 752,\n",
       "                                                         1000]},\n",
       "                   random_state=47, verbose=True)"
      ]
     },
     "execution_count": 61,
     "metadata": {},
     "output_type": "execute_result"
    }
   ],
   "source": [
    "%%time\n",
    "rf_random.fit(X_train, y_train)"
   ]
  },
  {
   "cell_type": "code",
   "execution_count": 62,
   "id": "d2d22030",
   "metadata": {},
   "outputs": [
    {
     "data": {
      "text/plain": [
       "RandomForestClassifier(n_estimators=505)"
      ]
     },
     "execution_count": 62,
     "metadata": {},
     "output_type": "execute_result"
    }
   ],
   "source": [
    "rf_random.best_estimator_"
   ]
  },
  {
   "cell_type": "code",
   "execution_count": 63,
   "id": "0be944df",
   "metadata": {
    "scrolled": true
   },
   "outputs": [
    {
     "name": "stdout",
     "output_type": "stream",
     "text": [
      "CPU times: user 44.7 s, sys: 639 ms, total: 45.4 s\n",
      "Wall time: 45.6 s\n"
     ]
    },
    {
     "data": {
      "text/plain": [
       "0.9551507021675948"
      ]
     },
     "execution_count": 63,
     "metadata": {},
     "output_type": "execute_result"
    }
   ],
   "source": [
    "%%time\n",
    "rf_random.score(preprocess.transform(X_test), y_test)"
   ]
  },
  {
   "cell_type": "code",
   "execution_count": 64,
   "id": "07fc0217",
   "metadata": {},
   "outputs": [
    {
     "data": {
      "text/plain": [
       "0.9936315667504502"
      ]
     },
     "execution_count": 64,
     "metadata": {},
     "output_type": "execute_result"
    }
   ],
   "source": [
    "rf_random.score(X_train, y_train)"
   ]
  },
  {
   "cell_type": "markdown",
   "id": "50840e00",
   "metadata": {},
   "source": [
    "## We have an improvment in the model!\n",
    "The new model is a random forest with 95% accuracy which means that \n",
    "we can preditc forming of diabetes without doing and lab test!"
   ]
  },
  {
   "cell_type": "markdown",
   "id": "576fc675",
   "metadata": {},
   "source": [
    "#### lets push it even futher with NN"
   ]
  },
  {
   "cell_type": "code",
   "execution_count": 65,
   "id": "4d6c246a",
   "metadata": {},
   "outputs": [],
   "source": [
    "from sklearn.neural_network import MLPClassifier"
   ]
  },
  {
   "cell_type": "code",
   "execution_count": 66,
   "id": "3c4c4db0",
   "metadata": {},
   "outputs": [],
   "source": [
    "mlp_model = MLPClassifier(hidden_layer_sizes=(100,))"
   ]
  },
  {
   "cell_type": "code",
   "execution_count": 67,
   "id": "850a6a7c",
   "metadata": {},
   "outputs": [
    {
     "data": {
      "text/plain": [
       "MLPClassifier()"
      ]
     },
     "execution_count": 67,
     "metadata": {},
     "output_type": "execute_result"
    }
   ],
   "source": [
    "mlp_model.fit(X_train, y_train)"
   ]
  },
  {
   "cell_type": "code",
   "execution_count": 68,
   "id": "a74cb202",
   "metadata": {},
   "outputs": [
    {
     "data": {
      "text/plain": [
       "0.6223321010954959"
      ]
     },
     "execution_count": 68,
     "metadata": {},
     "output_type": "execute_result"
    }
   ],
   "source": [
    "mlp_model.score(preprocess.transform(X_test), y_test)"
   ]
  },
  {
   "cell_type": "markdown",
   "id": "f8f3a677",
   "metadata": {},
   "source": [
    "#### I tried many archictacturs of Neural Network and none of them work, and getting even close to the random forest model "
   ]
  },
  {
   "cell_type": "markdown",
   "id": "2112c021",
   "metadata": {},
   "source": [
    "# Conclusion of best model"
   ]
  },
  {
   "cell_type": "code",
   "execution_count": 69,
   "id": "4338c9f1",
   "metadata": {},
   "outputs": [],
   "source": [
    "pred = rf_random.predict(preprocess.transform(X_test))"
   ]
  },
  {
   "cell_type": "code",
   "execution_count": 70,
   "id": "3ac2a7c0",
   "metadata": {},
   "outputs": [],
   "source": [
    "from sklearn.metrics import confusion_matrix, classification_report"
   ]
  },
  {
   "cell_type": "code",
   "execution_count": 71,
   "id": "46a8f96e",
   "metadata": {},
   "outputs": [
    {
     "data": {
      "image/png": "[encoded data removed]",
      "text/plain": [
       "<Figure size 432x288 with 2 Axes>"
      ]
     },
     "metadata": {
      "needs_background": "light"
     },
     "output_type": "display_data"
    }
   ],
   "source": [
    "ax = sb.heatmap(confusion_matrix(y_test, pred)/np.sum(confusion_matrix(y_test, pred)), annot=True, \n",
    "            fmt='.2%', cmap='Blues')\n",
    "ax.set_xlabel('\\nPredicted Values')\n",
    "ax.set_ylabel('Actual Values ');\n",
    "## Display the visualization of the Confusion Matrix.\n",
    "plt.show()"
   ]
  },
  {
   "cell_type": "code",
   "execution_count": 72,
   "id": "5736e27b",
   "metadata": {},
   "outputs": [
    {
     "name": "stdout",
     "output_type": "stream",
     "text": [
      "              precision    recall  f1-score   support\n",
      "\n",
      "           0       0.99      0.88      0.93     64271\n",
      "           1       0.99      1.00      1.00     64105\n",
      "           2       0.90      0.98      0.94     63957\n",
      "\n",
      "    accuracy                           0.96    192333\n",
      "   macro avg       0.96      0.96      0.95    192333\n",
      "weighted avg       0.96      0.96      0.95    192333\n",
      "\n"
     ]
    }
   ],
   "source": [
    "print(classification_report(y_test, pred))"
   ]
  },
  {
   "cell_type": "markdown",
   "id": "29a078bb",
   "metadata": {},
   "source": [
    "data -> eda -> add BMI Scale feature -> ROS -> preprocess(make cloumn transformer, cat-> OneHotEncode num-> StandartScaler) -> train test split -> RandomizedSearchCV with random forest and parmeters -> train\n",
    "-> finding best model -> confusion matrix and classfication repot -> score on test = 0.96."
   ]
  }
 ],
 "metadata": {
  "kernelspec": {
   "display_name": "Python 3 (ipykernel)",
   "language": "python",
   "name": "python3"
  },
  "language_info": {
   "codemirror_mode": {
    "name": "ipython",
    "version": 3
   },
   "file_extension": ".py",
   "mimetype": "text/x-python",
   "name": "python",
   "nbconvert_exporter": "python",
   "pygments_lexer": "ipython3",
   "version": "3.9.12"
  }
 },
 "nbformat": 4,
 "nbformat_minor": 5
}
